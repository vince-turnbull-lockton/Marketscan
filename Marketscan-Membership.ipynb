{
 "cells": [
  {
   "cell_type": "code",
   "execution_count": 0,
   "metadata": {
    "application/vnd.databricks.v1+cell": {
     "cellMetadata": {
      "byteLimit": 2048000,
      "rowLimit": 10000
     },
     "inputWidgets": {},
     "nuid": "77d18ae7-a49e-4f5a-9a34-c25c542e85de",
     "showTitle": false,
     "tableResultSettingsMap": {},
     "title": ""
    }
   },
   "outputs": [],
   "source": [
    "%python \n",
    "\n",
    "#### Use this code to configure your accoutn before running SQL in Databricks\n",
    "\n",
    "storage_account_name = 'rgdevglobalreahl'\n",
    "storage_account_key =  'RjnFSNg2IDzQ5bN/8aTZOFK1lnpL6zytdMnuQIrJQMw6psa7++18fCoIfaLkq5DEFV3Hp0b7WZjR+AStQuhR+A=='\n",
    "\n",
    "spark.conf.set(f\"fs.azure.account.key.{storage_account_name}.blob.core.windows.net\", storage_account_key)\n",
    "\n",
    "\n",
    "from pyspark.sql.functions import expr, array, lit, explode, col, concat, coalesce, when, to_date, date_format, month, lpad\n",
    "import pandas as pd\n",
    "\n",
    "\n",
    "from pyspark.sql.functions import col, lit, round \n",
    "from pyspark.sql import SparkSession\n",
    "import pyspark.sql.functions as F\n",
    "from pyspark.sql.window import Window\n",
    "import logging\n",
    "from functools import reduce"
   ]
  },
  {
   "cell_type": "code",
   "execution_count": 0,
   "metadata": {
    "application/vnd.databricks.v1+cell": {
     "cellMetadata": {
      "byteLimit": 2048000,
      "rowLimit": 10000
     },
     "inputWidgets": {},
     "nuid": "de2cd0f3-0c16-44e2-b9a6-e0ff91c7c9ee",
     "showTitle": false,
     "tableResultSettingsMap": {},
     "title": ""
    }
   },
   "outputs": [],
   "source": [
    "\n",
    "\n",
    "source_path_line = \"wasbs://marketscan@rgdevglobalreahl.blob.core.windows.net/marketscan/commercial/CCAE_T\"\n",
    "df = spark.read.parquet(source_path_line)\n",
    "\n",
    "\n",
    "df = df.withColumn(\"EMPREL\", when(df.EMPREL == \"1\", \"Employee\")\n",
    "                   .when(df.EMPREL == \"2\", \"Spouse\")\n",
    "                   .when(df.EMPREL == \"3\", \"Child\")\n",
    "                   .when(df.EMPREL == \"4\", \"Other Dependent\")\n",
    "                   .otherwise(\"Unknown\"))\n",
    "\n",
    "\n",
    "df = df.withColumn(\"SEX\", when(df.SEX == \"1\", \"Male\")\n",
    "                   .when(df.SEX == \"2\", \"Female\")\n",
    "                   .otherwise(\"Unknown\"))\n",
    "\n",
    "\n",
    "df = df.withColumn(\"HLTHPLAN\", when(df.HLTHPLAN == \"0\", \"Employer\")\n",
    "                   .when(df.HLTHPLAN == \"1\", \"Health Plan\")\n",
    "                   .otherwise(\"Unknown\"))\n",
    "\n",
    "\n",
    "df = df.withColumn(\"PLANTYP\", when(df.PLANTYP == \"1\", \"BM/MM\")\n",
    "                   .when(df.PLANTYP == \"2\", \"Comprehensive\")\n",
    "                   .when(df.PLANTYP == \"3\", \"EPO\")\n",
    "                   .when(df.PLANTYP == \"4\", \"HMO\")\n",
    "                   .when(df.PLANTYP == \"5\", \"POS\")\n",
    "                   .when(df.PLANTYP == \"6\", \"PPO\")\n",
    "                   .when(df.PLANTYP == \"7\", \"POS with Capitation\")\n",
    "                   .when(df.PLANTYP == \"8\", \"CDHP\")\n",
    "                   .when(df.PLANTYP == \"9\", \"HDHP\")\n",
    "                   .otherwise(\"Unknown\"))\n",
    "\n",
    "df = df.withColumn(\"INDSTRY\", when(df.INDSTRY == \"1\", \"Oil, Gas, Mining\")\n",
    "                   .when(df.INDSTRY == \"2\", \"Manfacturing, Durable Goods\")\n",
    "                   .when(df.INDSTRY == \"3\", \"Manufacturing, Nondurable Goods\")\n",
    "                   .when(df.INDSTRY == \"4\", \"Transportation, Communications, Utilities\")\n",
    "                   .when(df.INDSTRY == \"5\", \"Retail Trade\")\n",
    "                   .when(df.INDSTRY == \"6\", \"Finance, Insurance, Real Estate\")\n",
    "                   .when(df.INDSTRY == \"7\", \"Services\")\n",
    "                   .when(df.INDSTRY == \"A\", \"Agriculture, Forestry, Fishing\")\n",
    "                   .when(df.INDSTRY == \"C\", \"Construction\")\n",
    "                   .when(df.INDSTRY == \"W\", \"Wholesale\")\n",
    "                   .when(df.INDSTRY == \"O\", \"Other\")\n",
    "                   .otherwise(\"Unknown\"))\n",
    "\n",
    "df = df.withColumn(\"DATATYP\", when(df.DATATYP == \"1\", \"FFS\")\n",
    "                   .when(df.DATATYP == \"2\", \"Encounter\")\n",
    "                   .when(df.DATATYP == \"3\", \"Medicare\")\n",
    "                   .when(df.DATATYP == \"4\", \"Medicare Encounter\")\n",
    "                   .otherwise(\"Unknown\"))\n",
    "\n",
    "\n",
    "\n",
    "df = df.withColumn(\"STATE\", when(df.EGEOLOC == \"01\", \"Nation\")\n",
    "                   .when(df.EGEOLOC == \"02\", \"Nation\")\n",
    "                   .when(df.EGEOLOC == \"03\", \"Nation\")\n",
    "                   .when(df.EGEOLOC == \"04\", \"Connecticut\")\n",
    "                   .when(df.EGEOLOC == \"05\", \"Maine\")\n",
    "                   .when(df.EGEOLOC == \"06\", \"Massachusetts\")\n",
    "                   .when(df.EGEOLOC == \"07\", \"New Hampshire\")\n",
    "                   .when(df.EGEOLOC == \"08\", \"Rhode Island\")\n",
    "                   .when(df.EGEOLOC == \"09\", \"Vermont\")\n",
    "                   .when(df.EGEOLOC == \"10\", \"Nation\")\n",
    "                   .when(df.EGEOLOC == \"11\", \"New Jersey\")\n",
    "                   .when(df.EGEOLOC == \"12\", \"New York\")\n",
    "                   .when(df.EGEOLOC == \"13\", \"Pennsylvania\")\n",
    "                   .when(df.EGEOLOC == \"14\", \"Nation\")\n",
    "                   .when(df.EGEOLOC == \"15\", \"Nation\")\n",
    "                   .when(df.EGEOLOC == \"16\", \"Illinois\")\n",
    "                   .when(df.EGEOLOC == \"17\", \"Indiana\")\n",
    "                   .when(df.EGEOLOC == \"18\", \"Michigan\")\n",
    "                   .when(df.EGEOLOC == \"19\", \"Ohio\")\n",
    "                   .when(df.EGEOLOC == \"20\", \"Wisconsin\")\n",
    "                   .when(df.EGEOLOC == \"21\", \"Nation\")\n",
    "                   .when(df.EGEOLOC == \"22\", \"Iowa\")\n",
    "                   .when(df.EGEOLOC == \"23\", \"Kansas\")\n",
    "                   .when(df.EGEOLOC == \"24\", \"Minnesota\")\n",
    "                   .when(df.EGEOLOC == \"25\", \"Missouri\")\n",
    "                   .when(df.EGEOLOC == \"26\", \"Nebraska\")\n",
    "                   .when(df.EGEOLOC == \"27\", \"North Dakota\")\n",
    "                   .when(df.EGEOLOC == \"28\", \"South Dakota\")\n",
    "                   .when(df.EGEOLOC == \"29\", \"Nation\")\n",
    "                   .when(df.EGEOLOC == \"30\", \"Nation\")\n",
    "                   .when(df.EGEOLOC == \"31\", \"Washington DC\")\n",
    "                   .when(df.EGEOLOC == \"32\", \"Delaware\")\n",
    "                   .when(df.EGEOLOC == \"33\", \"Florida\")\n",
    "                   .when(df.EGEOLOC == \"34\", \"Georgia\")\n",
    "                   .when(df.EGEOLOC == \"35\", \"Maryland\")\n",
    "                   .when(df.EGEOLOC == \"36\", \"North Carolina\")\n",
    "                   .when(df.EGEOLOC == \"37\", \"South Carolina\")\n",
    "                   .when(df.EGEOLOC == \"38\", \"Virginia\")\n",
    "                   .when(df.EGEOLOC == \"39\", \"West Virginia\")\n",
    "                   .when(df.EGEOLOC == \"40\", \"Nation\")\n",
    "                   .when(df.EGEOLOC == \"41\", \"Alabama\")\n",
    "                   .when(df.EGEOLOC == \"42\", \"Kentucky\")\n",
    "                   .when(df.EGEOLOC == \"43\", \"Mississippi\")\n",
    "                   .when(df.EGEOLOC == \"44\", \"Tennessee\")\n",
    "                   .when(df.EGEOLOC == \"45\", \"Nation\")\n",
    "                   .when(df.EGEOLOC == \"46\", \"Arkanasas\")\n",
    "                   .when(df.EGEOLOC == \"47\", \"Louisiana\")\n",
    "                   .when(df.EGEOLOC == \"48\", \"Oklahoma\")\n",
    "                   .when(df.EGEOLOC == \"49\", \"Texas\")\n",
    "                   .when(df.EGEOLOC == \"50\", \"Nation\")\n",
    "                   .when(df.EGEOLOC == \"51\", \"Nation\")\n",
    "                   .when(df.EGEOLOC == \"52\", \"Arizona\")\n",
    "                   .when(df.EGEOLOC == \"53\", \"Colorado\")\n",
    "                   .when(df.EGEOLOC == \"54\", \"Idaho\")\n",
    "                   .when(df.EGEOLOC == \"55\", \"Montana\")\n",
    "                   .when(df.EGEOLOC == \"56\", \"Nevada\")\n",
    "                   .when(df.EGEOLOC == \"57\", \"New Mexico\")\n",
    "                   .when(df.EGEOLOC == \"58\", \"Utah\")\n",
    "                   .when(df.EGEOLOC == \"59\", \"Wyoming\")\n",
    "                   .when(df.EGEOLOC == \"60\", \"Wyoming\")\n",
    "                   .when(df.EGEOLOC == \"61\", \"Alaska\")\n",
    "                   .when(df.EGEOLOC == \"62\", \"California\")\n",
    "                   .when(df.EGEOLOC == \"63\", \"Hawaii\")\n",
    "                   .when(df.EGEOLOC == \"64\", \"Oregon\")\n",
    "                   .when(df.EGEOLOC == \"65\", \"Washington\")\n",
    "                   .when(df.EGEOLOC == \"97\", \"Puerto Rico\")\n",
    "                   .otherwise(\"Unknown\"))\n",
    "\n",
    "df = df.withColumn(\"member_month_key\", concat(df.YEAR, lpad(month(df.DTSTART), 2, \"0\")))\n",
    "\n",
    "##### Rename columns\n",
    "column_mappings = {'SEQNUM' : 'seqnum',\n",
    "'VERSION' : 'marketscan_version_number',\n",
    "'EFAMID' : 'family_id',\n",
    "'ENROLID' : 'member_id',\n",
    "'DTEND' : 'eligibility_end',\n",
    "'DTSTART' : 'eligibility_start',\n",
    "'MEMDAYS' : 'member_days',\n",
    "'MHSACOVG' : 'mhsa_coverage_flag',\n",
    "'PLANTYP' : 'plan_type',\n",
    "'AGE' : 'age',\n",
    "'DOBYR' : 'dob_year',\n",
    "'REGION' : 'region',\n",
    "'MSA' : 'msa',\n",
    "'DATATYP' : 'data_type',\n",
    "'AGEGRP' : 'agegrp',\n",
    "'EECLASS' : 'eeclass',\n",
    "'EESTATU' : 'eestatu',\n",
    "'EGEOLOC' : 'egeoloc',\n",
    "'EMPREL' : 'employee_relation',\n",
    "'PHYFLAG' : 'phyflag',\n",
    "'RX' : 'rx',\n",
    "'SEX' : 'member_gender',\n",
    "'HLTHPLAN' : 'healthplan_vs_employer',\n",
    "'INDSTRY' : 'industry',\n",
    "'MEDADV' : 'medicare_advantage_flag',\n",
    "'MSN_VERSION' : 'msn_version',\n",
    "'STATE' : 'member_state',\n",
    "'member_month_key' : 'member_month_key',\n",
    "'year' : 'year'}\n",
    "\n",
    "#### Rename columns\n",
    "for old_name, new_name in column_mappings.items():\n",
    "    df = df.withColumnRenamed(old_name, new_name)\n",
    "\n",
    "\n",
    "\n",
    "\n",
    "target_path = \"wasbs://marketscan@rgdevglobalreahl.blob.core.windows.net/marketscan/commercial/membership-table-preprod-step2\"\n",
    "df.write.partitionBy(\"year\").parquet(target_path, mode=\"overwrite\")\n",
    "\n"
   ]
  },
  {
   "cell_type": "code",
   "execution_count": 0,
   "metadata": {
    "application/vnd.databricks.v1+cell": {
     "cellMetadata": {
      "byteLimit": 2048000,
      "implicitDf": true,
      "rowLimit": 10000
     },
     "inputWidgets": {},
     "nuid": "4dd3dd04-d4d3-4b00-b67e-34b98db7d731",
     "showTitle": false,
     "tableResultSettingsMap": {},
     "title": ""
    }
   },
   "outputs": [
    {
     "output_type": "display_data",
     "data": {
      "text/html": [
       "<style scoped>\n",
       "  .table-result-container {\n",
       "    max-height: 300px;\n",
       "    overflow: auto;\n",
       "  }\n",
       "  table, th, td {\n",
       "    border: 1px solid black;\n",
       "    border-collapse: collapse;\n",
       "  }\n",
       "  th, td {\n",
       "    padding: 5px;\n",
       "  }\n",
       "  th {\n",
       "    text-align: left;\n",
       "  }\n",
       "</style><div class='table-result-container'><table class='table-result'><thead style='background-color: white'><tr><th>seqnum</th><th>member_id</th><th>mcasenum</th><th>dob_year</th><th>rx</th><th>mhsa_coverage_flag</th><th>plan_type</th><th>basis_of_eligibility</th><th>capitation</th><th>maintenance_assistance_status</th><th>medicare_dual_flag</th><th>marketscan_version_number</th><th>member_days</th><th>eligibility_end</th><th>eligibility_start</th><th>stdrace</th><th>member_gender</th><th>msn_version</th><th>member_lob</th><th>year</th></tr></thead><tbody><tr><td>84849089</td><td>20034164917</td><td>4VSXFo0bok</td><td>1979</td><td>0</td><td>1</td><td>Comprehensive</td><td>2</td><td>Unknown</td><td>9</td><td>1</td><td>20</td><td>31</td><td>2020-01-31</td><td>2020-01-01</td><td>2</td><td>Male</td><td>202020</td><td>Medicare Dual</td><td>2020</td></tr><tr><td>28161537</td><td>20046391375</td><td>4RJtMfPbyN</td><td>1961</td><td>0</td><td>1</td><td>Comprehensive</td><td>9</td><td>Unknown</td><td>9</td><td>1</td><td>20</td><td>29</td><td>2020-02-29</td><td>2020-02-01</td><td>2</td><td>Female</td><td>202020</td><td>Medicare Dual</td><td>2020</td></tr><tr><td>28161536</td><td>20046391375</td><td>4RJtMfPbyN</td><td>1961</td><td>0</td><td>1</td><td>Comprehensive</td><td>9</td><td>Unknown</td><td>9</td><td>1</td><td>20</td><td>31</td><td>2020-01-31</td><td>2020-01-01</td><td>2</td><td>Female</td><td>202020</td><td>Medicare Dual</td><td>2020</td></tr><tr><td>28161538</td><td>20046391375</td><td>4RJtMfPbyN</td><td>1961</td><td>0</td><td>1</td><td>Comprehensive</td><td>9</td><td>Unknown</td><td>9</td><td>1</td><td>20</td><td>31</td><td>2020-03-31</td><td>2020-03-01</td><td>2</td><td>Female</td><td>202020</td><td>Medicare Dual</td><td>2020</td></tr><tr><td>84848927</td><td>20034164876</td><td>fmL3QZeb6f5</td><td>1962</td><td>0</td><td>1</td><td>Comprehensive</td><td>2</td><td>Unknown</td><td>9</td><td>1</td><td>20</td><td>31</td><td>2020-12-31</td><td>2020-12-01</td><td>9</td><td>Female</td><td>202020</td><td>Medicare Dual</td><td>2020</td></tr></tbody></table></div>"
      ]
     },
     "metadata": {
      "application/vnd.databricks.v1+output": {
       "addedWidgets": {},
       "aggData": [],
       "aggError": "",
       "aggOverflow": false,
       "aggSchema": [],
       "aggSeriesLimitReached": false,
       "aggType": "",
       "arguments": {},
       "columnCustomDisplayInfos": {},
       "data": [
        [
         "84849089",
         "20034164917",
         "4VSXFo0bok",
         "1979",
         "0",
         "1",
         "Comprehensive",
         "2",
         "Unknown",
         "9",
         "1",
         "20",
         "31",
         "2020-01-31",
         "2020-01-01",
         "2",
         "Male",
         "202020",
         "Medicare Dual",
         2020
        ],
        [
         "28161537",
         "20046391375",
         "4RJtMfPbyN",
         "1961",
         "0",
         "1",
         "Comprehensive",
         "9",
         "Unknown",
         "9",
         "1",
         "20",
         "29",
         "2020-02-29",
         "2020-02-01",
         "2",
         "Female",
         "202020",
         "Medicare Dual",
         2020
        ],
        [
         "28161536",
         "20046391375",
         "4RJtMfPbyN",
         "1961",
         "0",
         "1",
         "Comprehensive",
         "9",
         "Unknown",
         "9",
         "1",
         "20",
         "31",
         "2020-01-31",
         "2020-01-01",
         "2",
         "Female",
         "202020",
         "Medicare Dual",
         2020
        ],
        [
         "28161538",
         "20046391375",
         "4RJtMfPbyN",
         "1961",
         "0",
         "1",
         "Comprehensive",
         "9",
         "Unknown",
         "9",
         "1",
         "20",
         "31",
         "2020-03-31",
         "2020-03-01",
         "2",
         "Female",
         "202020",
         "Medicare Dual",
         2020
        ],
        [
         "84848927",
         "20034164876",
         "fmL3QZeb6f5",
         "1962",
         "0",
         "1",
         "Comprehensive",
         "2",
         "Unknown",
         "9",
         "1",
         "20",
         "31",
         "2020-12-31",
         "2020-12-01",
         "9",
         "Female",
         "202020",
         "Medicare Dual",
         2020
        ]
       ],
       "datasetInfos": [],
       "dbfsResultPath": null,
       "isJsonSchema": true,
       "metadata": {
        "createTempViewForImplicitDf": true,
        "dataframeName": "_sqldf",
        "executionCount": 67
       },
       "overflow": false,
       "plotOptions": {
        "customPlotOptions": {},
        "displayType": "table",
        "pivotAggregation": null,
        "pivotColumns": null,
        "xColumns": null,
        "yColumns": null
       },
       "removedWidgets": [],
       "schema": [
        {
         "metadata": "{}",
         "name": "seqnum",
         "type": "\"decimal(38,0)\""
        },
        {
         "metadata": "{}",
         "name": "member_id",
         "type": "\"decimal(38,0)\""
        },
        {
         "metadata": "{}",
         "name": "mcasenum",
         "type": "\"string\""
        },
        {
         "metadata": "{}",
         "name": "dob_year",
         "type": "\"decimal(38,0)\""
        },
        {
         "metadata": "{}",
         "name": "rx",
         "type": "\"string\""
        },
        {
         "metadata": "{}",
         "name": "mhsa_coverage_flag",
         "type": "\"string\""
        },
        {
         "metadata": "{}",
         "name": "plan_type",
         "type": "\"string\""
        },
        {
         "metadata": "{}",
         "name": "basis_of_eligibility",
         "type": "\"string\""
        },
        {
         "metadata": "{}",
         "name": "capitation",
         "type": "\"string\""
        },
        {
         "metadata": "{}",
         "name": "maintenance_assistance_status",
         "type": "\"string\""
        },
        {
         "metadata": "{}",
         "name": "medicare_dual_flag",
         "type": "\"string\""
        },
        {
         "metadata": "{}",
         "name": "marketscan_version_number",
         "type": "\"string\""
        },
        {
         "metadata": "{}",
         "name": "member_days",
         "type": "\"decimal(38,0)\""
        },
        {
         "metadata": "{}",
         "name": "eligibility_end",
         "type": "\"date\""
        },
        {
         "metadata": "{}",
         "name": "eligibility_start",
         "type": "\"date\""
        },
        {
         "metadata": "{}",
         "name": "stdrace",
         "type": "\"string\""
        },
        {
         "metadata": "{}",
         "name": "member_gender",
         "type": "\"string\""
        },
        {
         "metadata": "{}",
         "name": "msn_version",
         "type": "\"string\""
        },
        {
         "metadata": "{}",
         "name": "member_lob",
         "type": "\"string\""
        },
        {
         "metadata": "{}",
         "name": "year",
         "type": "\"integer\""
        }
       ],
       "type": "table"
      }
     },
     "output_type": "display_data"
    }
   ],
   "source": [
    "%sql\n",
    "DROP VIEW IF EXISTS MS_Claims;\n",
    "\n",
    "CREATE TEMPORARY VIEW MS_Claims \n",
    "USING PARQUET\n",
    "OPTIONS (\n",
    "  \n",
    "  path = \"wasbs://marketscan@rgdevglobalreahl.blob.core.windows.net/marketscan/medicaid/membership-table-preprod-step2\"\n",
    "  );\n",
    "\n",
    "\n",
    "select *\n",
    "from MS_Claims\n",
    "\n",
    "\n",
    "limit 5"
   ]
  },
  {
   "cell_type": "markdown",
   "metadata": {
    "application/vnd.databricks.v1+cell": {
     "cellMetadata": {},
     "inputWidgets": {},
     "nuid": "d2d9eb05-b241-4616-90e9-f6d06f7b0399",
     "showTitle": false,
     "tableResultSettingsMap": {},
     "title": ""
    }
   },
   "source": [
    "Medicaid\n"
   ]
  },
  {
   "cell_type": "code",
   "execution_count": 0,
   "metadata": {
    "application/vnd.databricks.v1+cell": {
     "cellMetadata": {
      "byteLimit": 2048000,
      "rowLimit": 10000
     },
     "inputWidgets": {},
     "nuid": "06f15863-cf3f-416d-8062-2c3cdea52cfc",
     "showTitle": false,
     "tableResultSettingsMap": {},
     "title": ""
    }
   },
   "outputs": [],
   "source": [
    "source_path_line = \"wasbs://marketscan@rgdevglobalreahl.blob.core.windows.net/marketscan/medicaid/MDCD_T\"\n",
    "df_mcd = spark.read.parquet(source_path_line)\n",
    "\n",
    "\n",
    "df_mcd = df_mcd.withColumn(\"SEX\", when(df_mcd.SEX == \"1\", \"Male\")\n",
    "                   .when(df_mcd.SEX == \"2\", \"Female\")\n",
    "                   .otherwise(\"Unknown\"))\n",
    "\n",
    "\n",
    "df_mcd = df_mcd.withColumn(\"PLANTYP\", when(df_mcd.PLANTYP == \"1\", \"BM/MM\")\n",
    "                   .when(df_mcd.PLANTYP == \"2\", \"Comprehensive\")\n",
    "                   .when(df_mcd.PLANTYP == \"3\", \"EPO\")\n",
    "                   .when(df_mcd.PLANTYP == \"4\", \"HMO\")\n",
    "                   .when(df_mcd.PLANTYP == \"5\", \"POS\")\n",
    "                   .when(df_mcd.PLANTYP == \"6\", \"PPO\")\n",
    "                   .when(df_mcd.PLANTYP == \"7\", \"PCCM with capitation\")\n",
    "                   .when(df_mcd.PLANTYP == \"8\", \"CDHP\")\n",
    "                   .when(df_mcd.PLANTYP == \"9\", \"HDHP\")\n",
    "                   .otherwise(\"Unknown\"))\n",
    "\n",
    "\n",
    "df_mcd = df_mcd.withColumn(\"CAP\", when(df_mcd.CAP == \"1\", \"FFS\")\n",
    "                   .when(df_mcd.CAP == \"2\", \"Capitated\")\n",
    "                   .otherwise(\"Unknown\"))\n",
    "\n",
    "##### Double check with MS on Dual Logic;\n",
    "##### BOE = 1 is Aged; BOE = 2 is Blind/Disabled\n",
    "\n",
    "df_mcd = df_mcd.withColumn(\"LOB\", when(df_mcd.MEDICARE == \"1\", \"Medicare Dual\")\n",
    "                   .when(df_mcd.BOE == \"1\", \"Medicaid ABD\")\n",
    "                   .when(df_mcd.BOE == \"2\", \"Medicaid ABD\")\n",
    "                   .otherwise(\"Medicaid All Others\"))\n",
    "\n",
    "\n",
    "##### Rename columns\n",
    "column_mappings = {'SEQNUM' : 'seqnum' , \n",
    "'ENROLID' : 'member_id' , \n",
    "'MCASENUM' : 'mcasenum' , \n",
    "'DOBYR' : 'dob_year' , \n",
    "'DRUGCOVG' : 'rx' , \n",
    "'MHSACOVG' : 'mhsa_coverage_flag' , \n",
    "'PLANTYP' : 'plan_type' , \n",
    "'BOE' : 'basis_of_eligibility' , \n",
    "'CAP' : 'capitation' , \n",
    "'MAS' : 'maintenance_assistance_status' , \n",
    "'MEDICARE' : 'medicare_dual_flag' , \n",
    "'VERSION' : 'marketscan_version_number' , \n",
    "'MEMDAYS' : 'member_days' , \n",
    "'DTEND' : 'eligibility_end' , \n",
    "'DTSTART' : 'eligibility_start' , \n",
    "'STDRACE' : 'stdrace' , \n",
    "'SEX' : 'member_gender' , \n",
    "'MSN_VERSION' : 'msn_version' , \n",
    "'LOB' : 'member_lob' , \n",
    "'year' : 'year' }\n",
    "\n",
    "#### Rename columns\n",
    "for old_name, new_name in column_mappings.items():\n",
    "    df_mcd = df_mcd.withColumnRenamed(old_name, new_name)\n",
    "\n",
    "\n",
    "target_path = \"wasbs://marketscan@rgdevglobalreahl.blob.core.windows.net/marketscan/medicaid/membership-table-preprod-step2\"\n",
    "df_mcd.write.partitionBy(\"year\").parquet(target_path, mode=\"overwrite\")\n",
    "\n"
   ]
  }
 ],
 "metadata": {
  "application/vnd.databricks.v1+notebook": {
   "computePreferences": null,
   "dashboards": [],
   "environmentMetadata": {
    "base_environment": "",
    "environment_version": "2"
   },
   "inputWidgetPreferences": null,
   "language": "python",
   "notebookMetadata": {
    "mostRecentlyExecutedCommandWithImplicitDF": {
     "commandId": 8633975836862870,
     "dataframes": [
      "_sqldf"
     ]
    },
    "pythonIndentUnit": 4
   },
   "notebookName": "Marketscan-Membership",
   "widgets": {}
  },
  "language_info": {
   "name": "python"
  }
 },
 "nbformat": 4,
 "nbformat_minor": 0
}